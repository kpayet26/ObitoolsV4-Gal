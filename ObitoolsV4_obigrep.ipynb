{
 "cells": [
  {
   "cell_type": "code",
   "execution_count": 12,
   "id": "0f5c2dbf-f364-46dc-8c4b-cde45a160a8f",
   "metadata": {},
   "outputs": [
    {
     "name": "stdout",
     "output_type": "stream",
     "text": [
      "Cloning into 'obitools4'...\n",
      "remote: Enumerating objects: 7574, done.\u001b[K\n",
      "remote: Counting objects: 100% (591/591), done.\u001b[K\n",
      "remote: Compressing objects: 100% (397/397), done.\u001b[K\n",
      "remote: Total 7574 (delta 287), reused 384 (delta 148), pack-reused 6983 (from 2)\u001b[K\n",
      "Receiving objects: 100% (7574/7574), 188.68 MiB | 20.47 MiB/s, done.\n",
      "Resolving deltas: 100% (4721/4721), done.\n",
      "Updating files: 100% (529/529), done.\n"
     ]
    }
   ],
   "source": [
    "rm -rf obitools4\n",
    "git clone https://github.com/metabarcoding/obitools4 "
   ]
  },
  {
   "cell_type": "code",
   "execution_count": 13,
   "id": "ed4e3803-1a6b-4a11-bc4e-a61ab4a65847",
   "metadata": {},
   "outputs": [
    {
     "name": "stdout",
     "output_type": "stream",
     "text": [
      "HEAD is now at 996ec69 update the release notes for version 4.4.0\n"
     ]
    }
   ],
   "source": [
    "### Fixer la version \n",
    "cd obitools4\n",
    "git reset --hard 996ec69\n",
    "cd .."
   ]
  },
  {
   "cell_type": "code",
   "execution_count": 14,
   "id": "ec2ce414-9d61-4de4-a9f0-69f040ca9913",
   "metadata": {
    "scrolled": true
   },
   "outputs": [
    {
     "name": "stdout",
     "output_type": "stream",
     "text": [
      "Channels:\n",
      " - conda-forge\n",
      " - bioconda\n",
      "Platform: linux-64\n",
      "Collecting package metadata (repodata.json): done\n",
      "Solving environment: done\n",
      "\n",
      "\n",
      "==> WARNING: A newer version of conda exists. <==\n",
      "    current version: 25.3.1\n",
      "    latest version: 25.5.1\n",
      "\n",
      "Please update conda by running\n",
      "\n",
      "    $ conda update -n base -c conda-forge conda\n",
      "\n",
      "\n",
      "\n",
      "# All requested packages already installed.\n",
      "\n"
     ]
    }
   ],
   "source": [
    "conda install -c conda-forge compilers=1.10 make=4.4.1 go=1.24.5 zlib=1.3.1 jq=1.8.1 --yes"
   ]
  },
  {
   "cell_type": "code",
   "execution_count": 15,
   "id": "08ea8d47-3d5a-4369-845a-feb274307e79",
   "metadata": {
    "scrolled": true
   },
   "outputs": [],
   "source": [
    "# CHANGER LE LIEN DU GITLAB EN GITHUB\n",
    "find . -type f -exec sed -i \\\n",
    "  -e 's|git\\.metabarcoding\\.org/obitools/obitools4/obitools4|github.com/metabarcoding/obitools4|g' \\\n",
    "  -e 's|git\\.metabarcoding\\.org/org-asm/org-asm\\.git|github.com/metabarcoding/org-asm.git|g' \\\n",
    "  -e 's|git\\.metabarcoding\\.org/lecasofts/go/obitools|github.com/metabarcoding/obitools4|g' \\\n",
    "  -e 's|https://git\\.metabarcoding\\.org|https://github.com/metabarcoding|g' \\\n",
    "  {} +\n"
   ]
  },
  {
   "cell_type": "code",
   "execution_count": 16,
   "id": "a6e539f1-ae77-4a7d-bce6-4968b5219e01",
   "metadata": {
    "scrolled": true
   },
   "outputs": [],
   "source": [
    "export CC=$CONDA_PREFIX/bin/x86_64-conda-linux-gnu-cc\n",
    "export CGO_ENABLED=1\n",
    "export CGO_CFLAGS=\"-I$CONDA_PREFIX/include\"\n",
    "export CGO_LDFLAGS=\"-L$CONDA_PREFIX/lib\""
   ]
  },
  {
   "cell_type": "code",
   "execution_count": null,
   "id": "9aa099a4-4dfc-4ea6-8184-9da6817d6663",
   "metadata": {
    "scrolled": true
   },
   "outputs": [],
   "source": [
    "# Installation d'obitools V4\n",
    "cd obitools4\n",
    "make\n",
    "cd .."
   ]
  },
  {
   "cell_type": "code",
   "execution_count": 30,
   "id": "66b68220-249e-4fd9-b26a-4efb2f380b3b",
   "metadata": {},
   "outputs": [
    {
     "name": "stdout",
     "output_type": "stream",
     "text": [
      "Input file path: galaxy_inputs/wolfdiet_obigrep.fastq\n",
      "Nom de fichier (sans chemin, sans extension) : wolfdiet_obigrep\n",
      "Extension détectée : fastq\n"
     ]
    }
   ],
   "source": [
    "# Recherche des chemins des inputs et formatage de l'ouput \n",
    "json_path=\"galaxy_inputs/galaxy_inputs.json\"\n",
    "\n",
    "# input_file=\"galaxy_inputs/wolfdiet_obigrep.fastq\" test injection d'input\n",
    "input_file=$(grep -o '\"path\": *\"[^\"]*\"' \"$json_path\" | head -n 1 | sed 's/.*\"path\": *\"\\([^\"]*\\)\".*/\\1/')\n",
    "\n",
    "echo \"Input file path: $input_file\"\n",
    "\n",
    "\n",
    "filename=$(basename -- \"$input_file\")       # ex: myfile.fastq.gz\n",
    "extension=\"${filename##*.}\"                # ex: gz\n",
    "filename=\"${filename%.*}\"                  # ex: myfile.fastq ou myfile\n",
    "\n",
    "echo \"Nom de fichier (sans chemin, sans extension) : $filename\"\n",
    "echo \"Extension détectée : $extension\"\n",
    "\n",
    "\n",
    "output_file=\"outputs/outputfile.$extension\"\n",
    "format=\"\"\n"
   ]
  },
  {
   "cell_type": "code",
   "execution_count": 3,
   "id": "988ab9c8-cf2e-438e-b4e9-1a43197ebbd2",
   "metadata": {},
   "outputs": [
    {
     "name": "stdout",
     "output_type": "stream",
     "text": [
      "seq: \n",
      "def: \n",
      "ident: \n",
      "attrib: \n",
      "hasattrib: \n",
      "predicat: \n",
      "bash: jq: command not found\n",
      "bash: jq: command not found\n",
      "\n",
      "\n"
     ]
    }
   ],
   "source": [
    "#### Variables\n",
    "listarg=(seq def ident attrib hasattrib predicat)\n",
    "\n",
    "for i in \"${listarg[@]}\"; do\n",
    "    if [[ -d \"galaxy_inputs/$i\" ]]; then\n",
    "        value=$(head -n 1 \"galaxy_inputs/$i\"/*.txt)  # lit la 1ère ligne du fichier .txt dans ce dossier\n",
    "        declare \"$i=$value\"                          # crée une variable dynamique nommée comme $i\n",
    "    fi\n",
    "done\n",
    "\n",
    "\n",
    "# Test d'affichage\n",
    "echo \"seq: $seq\"\n",
    "echo \"def: $def\"\n",
    "echo \"ident: $ident\"\n",
    "echo \"attrib: $attrib\"\n",
    "echo \"hasattrib: $hasattrib\"\n",
    "echo \"predicat: $predicat\"\n",
    "\n",
    "\n",
    "# lmax=\"\"\n",
    "lmax=$(jq -r '.lmax' galaxy_inputs/galaxy_inputs.json)\n",
    "\n",
    "# lmin=\"\"   \n",
    "lmin=$(jq -r '.lmin' galaxy_inputs/galaxy_inputs.json)\n",
    "####\n",
    "\n",
    "echo \"$input_file\"\n",
    "echo \"$seq\""
   ]
  },
  {
   "cell_type": "code",
   "execution_count": 43,
   "id": "f727b2d9-bb72-4caa-bde4-ed8ea84b73ec",
   "metadata": {},
   "outputs": [
    {
     "name": "stdout",
     "output_type": "stream",
     "text": [
      "variable predicat présente : -p mode!=\"joined\"\n"
     ]
    }
   ],
   "source": [
    "### Ajout de la particule de l'argument \n",
    "if [[ -n \"$seq\"  && \"$seq\" != \"null\" ]]; then\n",
    "    seq=\"-s $seq\"\n",
    "    echo \"variable seq présente: $seq\"\n",
    "else \n",
    "    seq=\"\"\n",
    "fi\n",
    "\n",
    "if [[ -n \"$def\"  && \"$def\" != \"null\"  ]]; then\n",
    "    def=\"-D $def\"\n",
    "    echo \"variable def présente : $def\"\n",
    "else \n",
    "    def=\"\"\n",
    "fi\n",
    "\n",
    "if [[ -n \"$ident\"  && \"$ident\" != \"null\" ]]; then\n",
    "    ident=\"-I $ident\"\n",
    "    echo \"variable ident présente : $ident\"\n",
    "else \n",
    "    ident=\"\"\n",
    "fi\n",
    "\n",
    "if [[ -n \"$idlist\" && \"$idlist\" != \"null\" ]]; then\n",
    "    idlist=\"--id-list $idlist\"\n",
    "    echo \"variable idlist présente : $idlist\"\n",
    "else \n",
    "    idlist=\"\"\n",
    "fi\n",
    "\n",
    "if [[ -n \"$attrib\" && \"$attrib\" != \"null\" ]]; then\n",
    "    attrib=\"-A $attrib\"\n",
    "    echo \"variable attrib présente : $attrib\"\n",
    "else \n",
    "    attrib=\"\"\n",
    "fi\n",
    "\n",
    "if [[ -n \"$hasattrib\"  && \"$hasattrib\" != \"null\" ]]; then\n",
    "    hasattrib=\"-a $hasattrib\"\n",
    "    echo \"variable hassattribute présente : $hasattrib\"\n",
    "else \n",
    "    hasattrib=\"\"\n",
    "fi\n",
    "\n",
    "if [[ -n \"$predicat\"  && \"$predicat\" != \"null\" ]]; then\n",
    "    predicat=\"-p $predicat\"\n",
    "    echo \"variable predicat présente : $predicat\"\n",
    "else \n",
    "    predicat=\"\"\n",
    "fi\n",
    "\n",
    "if [[ -n \"$lmax\"  && \"$lmax\" != \"null\" ]]; then\n",
    "    lmax=\"-L $lmax\"\n",
    "    echo \"variable lmax présente : $lmax\"\n",
    "else \n",
    "    lmax=\"\"\n",
    "fi\n",
    "\n",
    "if [[ -n \"$lmin\"  && \"$lmin\" != \"null\" ]]; then\n",
    "    lmin=\"-l $lmin\"\n",
    "    echo \"variable lmin présente : $lmin\"\n",
    "else \n",
    "    lmin=\"\"\n",
    "fi"
   ]
  },
  {
   "cell_type": "code",
   "execution_count": 44,
   "id": "e270b2a4-bfc9-436f-9267-16a480d9a101",
   "metadata": {
    "scrolled": true
   },
   "outputs": [
    {
     "name": "stdout",
     "output_type": "stream",
     "text": [
      "\u001b[36mINFO\u001b[0m[0000] Number of workers set 125                    \n",
      "\u001b[36mINFO\u001b[0m[0000] Found 1 files to process                     \n",
      "\u001b[36mINFO\u001b[0m[0000] galaxy_inputs/wolfdiet_obigrep.fastq mime type: text/fastq \n",
      "\u001b[36mINFO\u001b[0m[0000] On output use JSON headers                   \n",
      "| Reading sequences (41435/-, 9924 it/s) [4s]  \n"
     ]
    }
   ],
   "source": [
    "./obitools4/build/obigrep $seq $def $ident $idlist $attrib $hasattrib $predicat $lmax $lmin $input_file --out $output_file --no-order"
   ]
  }
 ],
 "metadata": {
  "kernelspec": {
   "display_name": "Bash",
   "language": "bash",
   "name": "bash"
  },
  "language_info": {
   "codemirror_mode": "shell",
   "file_extension": ".sh",
   "mimetype": "text/x-sh",
   "name": "bash"
  }
 },
 "nbformat": 4,
 "nbformat_minor": 5
}
