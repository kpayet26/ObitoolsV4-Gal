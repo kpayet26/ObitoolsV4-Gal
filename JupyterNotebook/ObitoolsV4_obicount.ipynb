{
 "cells": [
  {
   "cell_type": "code",
   "execution_count": null,
   "id": "0f5c2dbf-f364-46dc-8c4b-cde45a160a8f",
   "metadata": {},
   "outputs": [],
   "source": [
    "rm -rf obitools4\n",
    "git clone https://github.com/metabarcoding/obitools4 "
   ]
  },
  {
   "cell_type": "code",
   "execution_count": null,
   "id": "ed4e3803-1a6b-4a11-bc4e-a61ab4a65847",
   "metadata": {},
   "outputs": [],
   "source": [
    "### Fixer la version \n",
    "cd obitools4\n",
    "git reset --hard 996ec69\n",
    "cd .."
   ]
  },
  {
   "cell_type": "code",
   "execution_count": null,
   "id": "ec2ce414-9d61-4de4-a9f0-69f040ca9913",
   "metadata": {
    "scrolled": true
   },
   "outputs": [],
   "source": [
    "conda install -c conda-forge compilers=1.10 make=4.4.1 go=1.24.5 zlib=1.3.1 jq=1.8.1 --yes"
   ]
  },
  {
   "cell_type": "code",
   "execution_count": 15,
   "id": "08ea8d47-3d5a-4369-845a-feb274307e79",
   "metadata": {
    "scrolled": true
   },
   "outputs": [],
   "source": [
    "# CHANGER LE LIEN DU GITLAB EN GITHUB\n",
    "find . -type f -exec sed -i \\\n",
    "  -e 's|git\\.metabarcoding\\.org/obitools/obitools4/obitools4|github.com/metabarcoding/obitools4|g' \\\n",
    "  -e 's|git\\.metabarcoding\\.org/org-asm/org-asm\\.git|github.com/metabarcoding/org-asm.git|g' \\\n",
    "  -e 's|git\\.metabarcoding\\.org/lecasofts/go/obitools|github.com/metabarcoding/obitools4|g' \\\n",
    "  -e 's|https://git\\.metabarcoding\\.org|https://github.com/metabarcoding|g' \\\n",
    "  {} +\n"
   ]
  },
  {
   "cell_type": "code",
   "execution_count": 16,
   "id": "a6e539f1-ae77-4a7d-bce6-4968b5219e01",
   "metadata": {
    "scrolled": true
   },
   "outputs": [],
   "source": [
    "export CC=$CONDA_PREFIX/bin/x86_64-conda-linux-gnu-cc\n",
    "export CGO_ENABLED=1\n",
    "export CGO_CFLAGS=\"-I$CONDA_PREFIX/include\"\n",
    "export CGO_LDFLAGS=\"-L$CONDA_PREFIX/lib\""
   ]
  },
  {
   "cell_type": "code",
   "execution_count": null,
   "id": "9aa099a4-4dfc-4ea6-8184-9da6817d6663",
   "metadata": {
    "scrolled": true
   },
   "outputs": [],
   "source": [
    "# Installation d'obitools V4\n",
    "cd obitools4\n",
    "make\n",
    "cd .."
   ]
  },
  {
   "cell_type": "code",
   "execution_count": null,
   "id": "66b68220-249e-4fd9-b26a-4efb2f380b3b",
   "metadata": {},
   "outputs": [],
   "source": [
    "# Recherche des chemins des inputs et formatage de l'ouput \n",
    "json_path=\"galaxy_inputs/galaxy_inputs.json\"\n",
    "\n",
    "# input_file=\"galaxy_inputs/wolfdiet_obigrep.fastq\" test injection d'input\n",
    "input_file=$(grep -o '\"path\": *\"[^\"]*\"' \"$json_path\" | head -n 1 | sed 's/.*\"path\": *\"\\([^\"]*\\)\".*/\\1/')\n",
    "\n",
    "echo \"Input file path: $input_file\"\n",
    "\n",
    "\n",
    "filename=$(basename -- \"$input_file\")       # ex: myfile.fastq.gz\n",
    "extension=\"${filename##*.}\"                # ex: gz\n",
    "filename=\"${filename%.*}\"                  # ex: myfile.fastq ou myfile\n",
    "\n",
    "echo \"Nom de fichier (sans chemin, sans extension) : $filename\"\n",
    "echo \"Extension détectée : $extension\"\n",
    "\n",
    "ouput_file=\"galaxy_outputs/${filename}_count.csv\"  \n",
    "format=\"\"\n"
   ]
  },
  {
   "cell_type": "code",
   "execution_count": null,
   "id": "988ab9c8-cf2e-438e-b4e9-1a43197ebbd2",
   "metadata": {},
   "outputs": [],
   "source": [
    "#### Variables\n",
    "# variants BOOLEEN -v\n",
    "variants=$(jq -r '.variants' galaxy_inputs/galaxy_inputs.json)\n",
    "if [[ \"$vairants\" == \"true\" ]]; then\n",
    "    chimera=\"-v\"\n",
    "    echo \"variable variants présente\"\n",
    "else \n",
    "    variants=\"\"\n",
    "fi\n",
    "\n",
    "# reads BOOLEEN -r\n",
    "reads=$(jq -r '.reads' galaxy_inputs/galaxy_inputs.json)\n",
    "if [[ \"$reads\" == \"true\" ]]; then\n",
    "    reads=\"-r\"\n",
    "    echo \"variable reads présente\"\n",
    "else\n",
    "    reads=\"\"\n",
    "fi\n",
    "\n",
    "#symbols BOOLEEN -s\n",
    "symbols=$(jq -r '.symbols' galaxy_inputs/galaxy_inputs.json)\n",
    "if [[ \"$symbols\" == \"true\" ]]; then\n",
    "    symbols=\"-s\"\n",
    "    echo \"variable symbols présente\"\n",
    "else\n",
    "    symbols=\"\"\n",
    "fi  \n",
    "\n",
    "\n",
    "####\n"
   ]
  },
  {
   "cell_type": "code",
   "execution_count": null,
   "id": "e270b2a4-bfc9-436f-9267-16a480d9a101",
   "metadata": {
    "scrolled": true
   },
   "outputs": [],
   "source": [
    "./obitools4/build/obicount $variants $reads $symbols $input_file"
   ]
  }
 ],
 "metadata": {
  "kernelspec": {
   "display_name": "Bash",
   "language": "bash",
   "name": "bash"
  },
  "language_info": {
   "codemirror_mode": "shell",
   "file_extension": ".sh",
   "mimetype": "text/x-sh",
   "name": "bash"
  }
 },
 "nbformat": 4,
 "nbformat_minor": 5
}
