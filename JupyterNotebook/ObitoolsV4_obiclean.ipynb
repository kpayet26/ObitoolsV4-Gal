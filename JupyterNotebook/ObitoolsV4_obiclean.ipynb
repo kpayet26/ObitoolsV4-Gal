{
 "cells": [
  {
   "cell_type": "code",
   "execution_count": 12,
   "id": "0f5c2dbf-f364-46dc-8c4b-cde45a160a8f",
   "metadata": {},
   "outputs": [
    {
     "name": "stdout",
     "output_type": "stream",
     "text": [
      "Cloning into 'obitools4'...\n",
      "remote: Enumerating objects: 7574, done.\u001b[K\n",
      "remote: Counting objects: 100% (591/591), done.\u001b[K\n",
      "remote: Compressing objects: 100% (397/397), done.\u001b[K\n",
      "remote: Total 7574 (delta 287), reused 384 (delta 148), pack-reused 6983 (from 2)\u001b[K\n",
      "Receiving objects: 100% (7574/7574), 188.68 MiB | 20.47 MiB/s, done.\n",
      "Resolving deltas: 100% (4721/4721), done.\n",
      "Updating files: 100% (529/529), done.\n"
     ]
    }
   ],
   "source": [
    "rm -rf obitools4\n",
    "git clone https://github.com/metabarcoding/obitools4 "
   ]
  },
  {
   "cell_type": "code",
   "execution_count": 13,
   "id": "ed4e3803-1a6b-4a11-bc4e-a61ab4a65847",
   "metadata": {},
   "outputs": [
    {
     "name": "stdout",
     "output_type": "stream",
     "text": [
      "HEAD is now at 996ec69 update the release notes for version 4.4.0\n"
     ]
    }
   ],
   "source": [
    "### Fixer la version \n",
    "cd obitools4\n",
    "git reset --hard 996ec69\n",
    "cd .."
   ]
  },
  {
   "cell_type": "code",
   "execution_count": 14,
   "id": "ec2ce414-9d61-4de4-a9f0-69f040ca9913",
   "metadata": {
    "scrolled": true
   },
   "outputs": [
    {
     "name": "stdout",
     "output_type": "stream",
     "text": [
      "Channels:\n",
      " - conda-forge\n",
      " - bioconda\n",
      "Platform: linux-64\n",
      "Collecting package metadata (repodata.json): done\n",
      "Solving environment: done\n",
      "\n",
      "\n",
      "==> WARNING: A newer version of conda exists. <==\n",
      "    current version: 25.3.1\n",
      "    latest version: 25.5.1\n",
      "\n",
      "Please update conda by running\n",
      "\n",
      "    $ conda update -n base -c conda-forge conda\n",
      "\n",
      "\n",
      "\n",
      "# All requested packages already installed.\n",
      "\n"
     ]
    }
   ],
   "source": [
    "conda install -c conda-forge compilers=1.10 make=4.4.1 go=1.24.5 zlib=1.3.1 jq=1.8.1 --yes"
   ]
  },
  {
   "cell_type": "code",
   "execution_count": 15,
   "id": "08ea8d47-3d5a-4369-845a-feb274307e79",
   "metadata": {
    "scrolled": true
   },
   "outputs": [],
   "source": [
    "# CHANGER LE LIEN DU GITLAB EN GITHUB\n",
    "find . -type f -exec sed -i \\\n",
    "  -e 's|git\\.metabarcoding\\.org/obitools/obitools4/obitools4|github.com/metabarcoding/obitools4|g' \\\n",
    "  -e 's|git\\.metabarcoding\\.org/org-asm/org-asm\\.git|github.com/metabarcoding/org-asm.git|g' \\\n",
    "  -e 's|git\\.metabarcoding\\.org/lecasofts/go/obitools|github.com/metabarcoding/obitools4|g' \\\n",
    "  -e 's|https://git\\.metabarcoding\\.org|https://github.com/metabarcoding|g' \\\n",
    "  {} +\n"
   ]
  },
  {
   "cell_type": "code",
   "execution_count": 16,
   "id": "a6e539f1-ae77-4a7d-bce6-4968b5219e01",
   "metadata": {
    "scrolled": true
   },
   "outputs": [],
   "source": [
    "export CC=$CONDA_PREFIX/bin/x86_64-conda-linux-gnu-cc\n",
    "export CGO_ENABLED=1\n",
    "export CGO_CFLAGS=\"-I$CONDA_PREFIX/include\"\n",
    "export CGO_LDFLAGS=\"-L$CONDA_PREFIX/lib\""
   ]
  },
  {
   "cell_type": "code",
   "execution_count": null,
   "id": "9aa099a4-4dfc-4ea6-8184-9da6817d6663",
   "metadata": {
    "scrolled": true
   },
   "outputs": [],
   "source": [
    "# Installation d'obitools V4\n",
    "cd obitools4\n",
    "make\n",
    "cd .."
   ]
  },
  {
   "cell_type": "code",
   "execution_count": 30,
   "id": "66b68220-249e-4fd9-b26a-4efb2f380b3b",
   "metadata": {},
   "outputs": [
    {
     "name": "stdout",
     "output_type": "stream",
     "text": [
      "Input file path: galaxy_inputs/wolfdiet_obigrep.fastq\n",
      "Nom de fichier (sans chemin, sans extension) : wolfdiet_obigrep\n",
      "Extension détectée : fastq\n"
     ]
    }
   ],
   "source": [
    "# Recherche des chemins des inputs et formatage de l'ouput \n",
    "json_path=\"galaxy_inputs/galaxy_inputs.json\"\n",
    "\n",
    "# input_file=\"galaxy_inputs/wolfdiet_obigrep.fastq\" test injection d'input\n",
    "input_file=$(grep -o '\"path\": *\"[^\"]*\"' \"$json_path\" | head -n 1 | sed 's/.*\"path\": *\"\\([^\"]*\\)\".*/\\1/')\n",
    "\n",
    "echo \"Input file path: $input_file\"\n",
    "\n",
    "\n",
    "filename=$(basename -- \"$input_file\")       # ex: myfile.fastq.gz\n",
    "extension=\"${filename##*.}\"                # ex: gz\n",
    "filename=\"${filename%.*}\"                  # ex: myfile.fastq ou myfile\n",
    "\n",
    "echo \"Nom de fichier (sans chemin, sans extension) : $filename\"\n",
    "echo \"Extension détectée : $extension\"\n",
    "\n",
    "\n",
    "output_file=\"outputs/outputfile.$extension\"\n",
    "format=\"\"\n"
   ]
  },
  {
   "cell_type": "code",
   "execution_count": null,
   "id": "4a8c46f5",
   "metadata": {
    "vscode": {
     "languageId": "plaintext"
    }
   },
   "outputs": [],
   "source": [
    "### Create directory output \n",
    "\n",
    "savegraph=$(jq -r '.savegraph' galaxy_inputs/galaxy_inputs.json)\n",
    "saveratio=$(jq -r '.saveratio' galaxy_inputs/galaxy_inputs.json)\n",
    "if [[ \"$savegraph\" == \"True\" || \"$saveratio\" == \"True\" ]]\n",
    "    mkdir outputs/save\n",
    "    save_dir=\"outputs/save\"\n",
    "    if [[\"$savegraph\" == \"True\"]]\n",
    "        savegraph=\"--save-graph $save_dir\"\n",
    "    else\n",
    "        savegraph=\"\"\n",
    "    fi\n",
    "    if [[\"$saveratio\" == \"True\"]]\n",
    "        saveratio=\"--save-ratio $save_dir\"\n",
    "    else\n",
    "        saveratio=\"\"\n",
    "    fi\n",
    "fi\n",
    "\n",
    "minievalrate=$(jq -r '.minievalrate' galaxy_inputs/galaxy_inputs.json)\n",
    "\n",
    "if [[ -n \"$minevalrate\" && -n \"$saveratio\" ]]; then\n",
    "    minevalrate=\"--min-eval-rate $minevalrate\"\n",
    "fi"
   ]
  },
  {
   "cell_type": "code",
   "execution_count": null,
   "id": "988ab9c8-cf2e-438e-b4e9-1a43197ebbd2",
   "metadata": {},
   "outputs": [
    {
     "name": "stdout",
     "output_type": "stream",
     "text": [
      "seq: \n",
      "def: \n",
      "ident: \n",
      "attrib: \n",
      "hasattrib: \n",
      "predicat: \n",
      "bash: jq: command not found\n",
      "bash: jq: command not found\n",
      "\n",
      "\n"
     ]
    }
   ],
   "source": [
    "#### Variables\n",
    "# distance=\"\" INTEGER -d\n",
    "dist=$(jq -r '.dist' galaxy_inputs/galaxy_inputs.json)\n",
    "if [[ -n \"$dist\"  && \"$dist\" != \"null\" ]]; then\n",
    "    dist=\"-d $dist\"\n",
    "    echo \"variable distance présente: $dist\"\n",
    "else \n",
    "    dist=\"\"\n",
    "fi\n",
    "\n",
    "\n",
    "# ratio=\"\"  FLOAT -r \n",
    "ratio=$(jq -r '.ratio' galaxy_inputs/galaxy_inputs.json)\n",
    "if [[ -n \"$ratio\" && \"$ratio\" != \"null\" ]]; then\n",
    "    ratio=\"-r $ratio\"\n",
    "    echo \"variable ratio présente: $ratio\"\n",
    "else \n",
    "    ratio=\"\"            \n",
    "fi\n",
    "\n",
    "# sample=\"\" STRING -s\n",
    "sample=$(jq -r '.sample' galaxy_inputs/galaxy_inputs.json)\n",
    "if [[ -n \"$sample\" && \"$sample\" != \"null\" ]]; then\n",
    "    sample=\"-s $sample\"  \n",
    "    echo \"variable sample présente: $sample\"\n",
    "else \n",
    "    sample=\"\"\n",
    "fi\n",
    "\n",
    "# chimera BOOLEEN --detect-chimera\n",
    "chimera=$(jq -r '.chimera' galaxy_inputs/galaxy_inputs.json)\n",
    "if [[ \"$chimera\" == \"true\" ]]; then\n",
    "    chimera=\"--detect-chimera\"\n",
    "    echo \"variable chimera présente: $chimera\"\n",
    "else \n",
    "    chimera=\"\"\n",
    "fi\n",
    "\n",
    "# head BOOLEEN -H\n",
    "head=$(jq -r '.head' galaxy_inputs/galaxy_inputs.json)\n",
    "if [[ \"$head\" == \"true\" ]]; then\n",
    "    head=\"-H\"\n",
    "    echo \"variable head présente: $head\"\n",
    "else\n",
    "    head=\"\"\n",
    "fi  \n",
    "\n",
    "# min sample count INTEGER --min-sample-count\n",
    "mincount=$(jq -r '.mincount' galaxy_inputs/galaxy_inputs.json)\n",
    "if [[ -n \"$mincount\" && \"$mincount\" != \"null\" ]]; then\n",
    "    mincount=\"--min-sample-count $mincount\"\n",
    "    echo \"variable mincount présente: $mincount\"\n",
    "else \n",
    "    mincount=\"\"\n",
    "fi      \n",
    "\n",
    "\n",
    "####\n"
   ]
  },
  {
   "cell_type": "code",
   "execution_count": null,
   "id": "e270b2a4-bfc9-436f-9267-16a480d9a101",
   "metadata": {
    "scrolled": true
   },
   "outputs": [
    {
     "name": "stdout",
     "output_type": "stream",
     "text": [
      "\u001b[36mINFO\u001b[0m[0000] Number of workers set 125                    \n",
      "\u001b[36mINFO\u001b[0m[0000] Found 1 files to process                     \n",
      "\u001b[36mINFO\u001b[0m[0000] galaxy_inputs/wolfdiet_obigrep.fastq mime type: text/fastq \n",
      "\u001b[36mINFO\u001b[0m[0000] On output use JSON headers                   \n",
      "| Reading sequences (41435/-, 9924 it/s) [4s]  \n"
     ]
    }
   ],
   "source": [
    "./obitools4/build/obiclean $dist $ratio $sample $chimera $head $mincount $savegraph $saveratio $minievalrate $input_file --out $output_file"
   ]
  }
 ],
 "metadata": {
  "kernelspec": {
   "display_name": "Bash",
   "language": "bash",
   "name": "bash"
  },
  "language_info": {
   "codemirror_mode": "shell",
   "file_extension": ".sh",
   "mimetype": "text/x-sh",
   "name": "bash"
  }
 },
 "nbformat": 4,
 "nbformat_minor": 5
}
