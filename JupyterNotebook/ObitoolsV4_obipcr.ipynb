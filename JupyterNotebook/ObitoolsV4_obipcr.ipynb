{
 "cells": [
  {
   "cell_type": "code",
   "execution_count": null,
   "id": "0f5c2dbf-f364-46dc-8c4b-cde45a160a8f",
   "metadata": {},
   "outputs": [
    {
     "name": "stdout",
     "output_type": "stream",
     "text": [
      "Cloning into 'obitools4'...\n",
      "remote: Enumerating objects: 7574, done.\u001b[K\n",
      "remote: Counting objects: 100% (591/591), done.\u001b[K\n",
      "remote: Compressing objects: 100% (397/397), done.\u001b[K\n",
      "remote: Total 7574 (delta 287), reused 384 (delta 148), pack-reused 6983 (from 2)\u001b[K\n",
      "Receiving objects: 100% (7574/7574), 188.68 MiB | 20.47 MiB/s, done.\n",
      "Resolving deltas: 100% (4721/4721), done.\n",
      "Updating files: 100% (529/529), done.\n"
     ]
    }
   ],
   "source": [
    "rm -rf obitools4\n",
    "git clone https://github.com/metabarcoding/obitools4 "
   ]
  },
  {
   "cell_type": "code",
   "execution_count": null,
   "id": "ed4e3803-1a6b-4a11-bc4e-a61ab4a65847",
   "metadata": {},
   "outputs": [
    {
     "name": "stdout",
     "output_type": "stream",
     "text": [
      "HEAD is now at 996ec69 update the release notes for version 4.4.0\n"
     ]
    }
   ],
   "source": [
    "### Fixer la version \n",
    "cd obitools4\n",
    "git reset --hard 996ec69\n",
    "cd .."
   ]
  },
  {
   "cell_type": "code",
   "execution_count": null,
   "id": "ec2ce414-9d61-4de4-a9f0-69f040ca9913",
   "metadata": {
    "scrolled": true
   },
   "outputs": [
    {
     "name": "stdout",
     "output_type": "stream",
     "text": [
      "Channels:\n",
      " - conda-forge\n",
      " - bioconda\n",
      "Platform: linux-64\n",
      "Collecting package metadata (repodata.json): done\n",
      "Solving environment: done\n",
      "\n",
      "\n",
      "==> WARNING: A newer version of conda exists. <==\n",
      "    current version: 25.3.1\n",
      "    latest version: 25.5.1\n",
      "\n",
      "Please update conda by running\n",
      "\n",
      "    $ conda update -n base -c conda-forge conda\n",
      "\n",
      "\n",
      "\n",
      "# All requested packages already installed.\n",
      "\n"
     ]
    }
   ],
   "source": [
    "conda install -c conda-forge compilers=1.10 make=4.4.1 go=1.24.5 zlib=1.3.1 jq=1.8.1 --yes"
   ]
  },
  {
   "cell_type": "code",
   "execution_count": null,
   "id": "08ea8d47-3d5a-4369-845a-feb274307e79",
   "metadata": {
    "scrolled": true
   },
   "outputs": [],
   "source": [
    "# CHANGER LE LIEN DU GITLAB EN GITHUB\n",
    "find . -type f -exec sed -i \\\n",
    "  -e 's|git\\.metabarcoding\\.org/obitools/obitools4/obitools4|github.com/metabarcoding/obitools4|g' \\\n",
    "  -e 's|git\\.metabarcoding\\.org/org-asm/org-asm\\.git|github.com/metabarcoding/org-asm.git|g' \\\n",
    "  -e 's|git\\.metabarcoding\\.org/lecasofts/go/obitools|github.com/metabarcoding/obitools4|g' \\\n",
    "  -e 's|https://git\\.metabarcoding\\.org|https://github.com/metabarcoding|g' \\\n",
    "  {} +\n"
   ]
  },
  {
   "cell_type": "code",
   "execution_count": null,
   "id": "a6e539f1-ae77-4a7d-bce6-4968b5219e01",
   "metadata": {
    "scrolled": true
   },
   "outputs": [],
   "source": [
    "export CC=$CONDA_PREFIX/bin/x86_64-conda-linux-gnu-cc\n",
    "export CGO_ENABLED=1\n",
    "export CGO_CFLAGS=\"-I$CONDA_PREFIX/include\"\n",
    "export CGO_LDFLAGS=\"-L$CONDA_PREFIX/lib\""
   ]
  },
  {
   "cell_type": "code",
   "execution_count": null,
   "id": "9aa099a4-4dfc-4ea6-8184-9da6817d6663",
   "metadata": {
    "scrolled": true
   },
   "outputs": [],
   "source": [
    "# Installation d'obitools V4\n",
    "cd obitools4\n",
    "make\n",
    "cd .."
   ]
  },
  {
   "cell_type": "code",
   "execution_count": null,
   "id": "66b68220-249e-4fd9-b26a-4efb2f380b3b",
   "metadata": {},
   "outputs": [
    {
     "name": "stdout",
     "output_type": "stream",
     "text": [
      "Input file path: galaxy_inputs/wolfdiet_obigrep.fastq\n",
      "Nom de fichier (sans chemin, sans extension) : wolfdiet_obigrep\n",
      "Extension détectée : fastq\n"
     ]
    }
   ],
   "source": [
    "# Recherche des chemins des inputs et formatage de l'ouput \n",
    "json_path=\"galaxy_inputs/galaxy_inputs.json\"\n",
    "\n",
    "# input_file=\"galaxy_inputs/wolfdiet_obigrep.fastq\" test injection d'input\n",
    "input_file=$(grep -o '\"path\": *\"[^\"]*\"' \"$json_path\" | head -n 1 | sed 's/.*\"path\": *\"\\([^\"]*\\)\".*/\\1/')\n",
    "\n",
    "echo \"Input file path: $input_file\"\n",
    "\n",
    "\n",
    "filename=$(basename -- \"$input_file\")       # ex: myfile.fastq.gz\n",
    "extension=\"${filename##*.}\"                # ex: gz\n",
    "filename=\"${filename%.*}\"                  # ex: myfile.fastq ou myfile\n",
    "\n",
    "echo \"Nom de fichier (sans chemin, sans extension) : $filename\"\n",
    "echo \"Extension détectée : $extension\"\n",
    "\n",
    "\n",
    "output_file=\"outputs/outputfile.$extension\"\n",
    "format=\"\"\n"
   ]
  },
  {
   "cell_type": "code",
   "execution_count": null,
   "id": "99290a88",
   "metadata": {
    "vscode": {
     "languageId": "shellscript"
    }
   },
   "outputs": [],
   "source": [
    "# ## Argument hasattrib with a option for the multiples arguments\n",
    "# # Input key \n",
    "# key_hasattrib=$(jq -r '.keyXhasattrib' galaxy_inputs/galaxy_inputs.json)\n",
    "# #Input value \n",
    "# value_hasattrib=$(jq -r '.valueXhasattrib' galaxy_inputs/galaxy_inputs.json)\n",
    "\n",
    "\n",
    "# # Transformer la chaîne en tableau\n",
    "# IFS=',' read -r -a value_hasattrib <<< \"$value_hasattrib\"\n",
    "\n",
    "# # Construire l'argument final\n",
    "# hasattrib=()\n",
    "# for i in \"${value_hasattrib[@]}\"; do\n",
    "#     hasattrib+=(\"-a ${key_hasattrib}=${i}\")\n",
    "# done"
   ]
  },
  {
   "cell_type": "code",
   "execution_count": null,
   "id": "f727b2d9-bb72-4caa-bde4-ed8ea84b73ec",
   "metadata": {},
   "outputs": [
    {
     "name": "stdout",
     "output_type": "stream",
     "text": [
      "variable predicat présente : -p mode!=\"joined\"\n"
     ]
    }
   ],
   "source": [
    "# Variable ObiPCR Mandatory\n",
    "\n",
    "#forward PATTERN or STRING\n",
    "forward=$(jq -r '.forward' galaxy_inputs/galaxy_inputs.json)\n",
    "forward=\"--forward $forward\"\n",
    "echo \"variable forward présente: $forward\"\n",
    "\n",
    "#reverse PATTERN or STRING\n",
    "reverse=$(jq -r '.reverse' galaxy_inputs/galaxy_inputs.json)\n",
    "reverse=\"--reverse $reverse\"\n",
    "echo \"variable reverse présente: $reverse\"\n",
    "\n",
    "#Max length INTEGER\n",
    "maxlen=$(jq -r '.maxlen' galaxy_inputs/galaxy_inputs.json)\n",
    "maxlen=\"-L $maxlen\"\n",
    "echo \"variable maxlen présente: $maxlen\"\n",
    "\n",
    "# Variable ObiPCR Optional\n",
    "\n",
    "#allowed mismatches INTEGER \n",
    "mismatches=$(jq -r '.mismatches' galaxy_inputs/galaxy_inputs.json)\n",
    "if [ \"$mismatches\" != \"null\" ]; then\n",
    "    mismatches=\"-e $mismatches\"\n",
    "    echo \"variable mismatches présente: $mismatches\"\n",
    "else\n",
    "    mismatches=\"\"\n",
    "    echo \"variable mismatches absente\"\n",
    "fi\n",
    "\n",
    "#min length INTEGER\n",
    "minlen=$(jq -r '.minlen' galaxy_inputs/galaxy_inputs.json)\n",
    "if [ \"$minlen\" != \"null\" ]; then\n",
    "    minlen=\"-l $minlen\"\n",
    "    echo \"variable minlen présente: $minlen\"\n",
    "else\n",
    "    minlen=\"\"\n",
    "    echo \"variable minlen absente\"\n",
    "fi\n",
    "\n",
    "#circular BOOLEAN\n",
    "circular=$(jq -r '.circular' galaxy_inputs/galaxy_inputs.json)\n",
    "if [ \"$circular\" = \"true\" ]; then\n",
    "    circular=\"-c\"\n",
    "    echo \"variable circular présente: $circular\"\n",
    "else\n",
    "    circular=\"\"\n",
    "    echo \"variable circular absente\"\n",
    "fi\n",
    "\n",
    "#delta INTEGER -D\n",
    "delta=$(jq -r '.delta' galaxy_inputs/galaxy_inputs.json)\n",
    "if [ \"$delta\" != \"null\" ]; then\n",
    "    delta=\"-D $delta\"\n",
    "    echo \"variable delta présente: $delta\"\n",
    "else\n",
    "    delta=\"\"\n",
    "    echo \"variable delta absente\"\n",
    "fi\n",
    "\n",
    "#only complete flanking BOOLEAN\n",
    "onlyflank=$(jq -r '.onlyflank' galaxy_inputs/galaxy_inputs.json)\n",
    "if [ \"$onlyflank\" = \"true\" ]; then\n",
    "    onlyflank=\"-f\"\n",
    "    echo \"variable onlyflank présente: $onlyflank\"\n",
    "else\n",
    "    onlyflank=\"\" \n",
    "    echo \"variable onlyflank absente\"\n",
    "fi"
   ]
  },
  {
   "cell_type": "code",
   "execution_count": null,
   "id": "cf721c1b",
   "metadata": {
    "vscode": {
     "languageId": "shellscript"
    }
   },
   "outputs": [],
   "source": [
    "## Test variable \n",
    "primer=$(jq -r '.primer' galaxy_inputs/galaxy_inputs.json)"
   ]
  },
  {
   "cell_type": "code",
   "execution_count": null,
   "id": "6d71d785",
   "metadata": {
    "vscode": {
     "languageId": "shellscript"
    }
   },
   "outputs": [],
   "source": [
    "./obitools4/build/obipcr $forward $reverse $maxlen $mismatches $minlen $circular $delta $onlyflank --out $output_file --no-order"
   ]
  }
 ],
 "metadata": {
  "kernelspec": {
   "display_name": "Bash",
   "language": "bash",
   "name": "bash"
  },
  "language_info": {
   "codemirror_mode": "shell",
   "file_extension": ".sh",
   "mimetype": "text/x-sh",
   "name": "bash"
  }
 },
 "nbformat": 4,
 "nbformat_minor": 5
}
