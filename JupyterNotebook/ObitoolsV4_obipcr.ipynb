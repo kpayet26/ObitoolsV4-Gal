{
 "cells": [
  {
   "cell_type": "code",
   "execution_count": null,
   "id": "0f5c2dbf-f364-46dc-8c4b-cde45a160a8f",
   "metadata": {},
   "outputs": [
    {
     "name": "stdout",
     "output_type": "stream",
     "text": [
      "Cloning into 'obitools4'...\n",
      "remote: Enumerating objects: 7574, done.\u001b[K\n",
      "remote: Counting objects: 100% (591/591), done.\u001b[K\n",
      "remote: Compressing objects: 100% (397/397), done.\u001b[K\n",
      "remote: Total 7574 (delta 287), reused 384 (delta 148), pack-reused 6983 (from 2)\u001b[K\n",
      "Receiving objects: 100% (7574/7574), 188.68 MiB | 20.47 MiB/s, done.\n",
      "Resolving deltas: 100% (4721/4721), done.\n",
      "Updating files: 100% (529/529), done.\n"
     ]
    }
   ],
   "source": [
    "rm -rf obitools4\n",
    "git clone https://github.com/metabarcoding/obitools4 "
   ]
  },
  {
   "cell_type": "code",
   "execution_count": null,
   "id": "ed4e3803-1a6b-4a11-bc4e-a61ab4a65847",
   "metadata": {},
   "outputs": [
    {
     "name": "stdout",
     "output_type": "stream",
     "text": [
      "HEAD is now at 996ec69 update the release notes for version 4.4.0\n"
     ]
    }
   ],
   "source": [
    "### Fixer la version \n",
    "cd obitools4\n",
    "git reset --hard 996ec69\n",
    "cd .."
   ]
  },
  {
   "cell_type": "code",
   "execution_count": null,
   "id": "ec2ce414-9d61-4de4-a9f0-69f040ca9913",
   "metadata": {
    "scrolled": true
   },
   "outputs": [
    {
     "name": "stdout",
     "output_type": "stream",
     "text": [
      "Channels:\n",
      " - conda-forge\n",
      " - bioconda\n",
      "Platform: linux-64\n",
      "Collecting package metadata (repodata.json): done\n",
      "Solving environment: done\n",
      "\n",
      "\n",
      "==> WARNING: A newer version of conda exists. <==\n",
      "    current version: 25.3.1\n",
      "    latest version: 25.5.1\n",
      "\n",
      "Please update conda by running\n",
      "\n",
      "    $ conda update -n base -c conda-forge conda\n",
      "\n",
      "\n",
      "\n",
      "# All requested packages already installed.\n",
      "\n"
     ]
    }
   ],
   "source": [
    "conda install -c conda-forge compilers=1.10 make=4.4.1 go=1.24.5 zlib=1.3.1 jq=1.8.1 --yes"
   ]
  },
  {
   "cell_type": "code",
   "execution_count": null,
   "id": "08ea8d47-3d5a-4369-845a-feb274307e79",
   "metadata": {
    "scrolled": true
   },
   "outputs": [],
   "source": [
    "# CHANGER LE LIEN DU GITLAB EN GITHUB\n",
    "find . -type f -exec sed -i \\\n",
    "  -e 's|git\\.metabarcoding\\.org/obitools/obitools4/obitools4|github.com/metabarcoding/obitools4|g' \\\n",
    "  -e 's|git\\.metabarcoding\\.org/org-asm/org-asm\\.git|github.com/metabarcoding/org-asm.git|g' \\\n",
    "  -e 's|git\\.metabarcoding\\.org/lecasofts/go/obitools|github.com/metabarcoding/obitools4|g' \\\n",
    "  -e 's|https://git\\.metabarcoding\\.org|https://github.com/metabarcoding|g' \\\n",
    "  {} +\n"
   ]
  },
  {
   "cell_type": "code",
   "execution_count": null,
   "id": "a6e539f1-ae77-4a7d-bce6-4968b5219e01",
   "metadata": {
    "scrolled": true
   },
   "outputs": [],
   "source": [
    "export CC=$CONDA_PREFIX/bin/x86_64-conda-linux-gnu-cc\n",
    "export CGO_ENABLED=1\n",
    "export CGO_CFLAGS=\"-I$CONDA_PREFIX/include\"\n",
    "export CGO_LDFLAGS=\"-L$CONDA_PREFIX/lib\""
   ]
  },
  {
   "cell_type": "code",
   "execution_count": null,
   "id": "9aa099a4-4dfc-4ea6-8184-9da6817d6663",
   "metadata": {
    "scrolled": true
   },
   "outputs": [],
   "source": [
    "# Installation d'obitools V4\n",
    "cd obitools4\n",
    "make\n",
    "cd .."
   ]
  },
  {
   "cell_type": "code",
   "execution_count": null,
   "id": "66b68220-249e-4fd9-b26a-4efb2f380b3b",
   "metadata": {},
   "outputs": [],
   "source": [
    "# Recherche des chemins des inputs et formatage de l'ouput \n",
    "json_path=\"galaxy_inputs/galaxy_inputs.json\"\n",
    "\n",
    "# INPUT_file\n",
    "input_file=$(jq -r '.inputXfile[0].path' \"$json_path\")\n",
    "\n",
    "multiple_primer=$(jq -r '.multipleXprimer' \"$json_path\")\n",
    "\n",
    "if [[ multiple_primer == \"true \"]]; then\n",
    "    primer=$(jq -r '.primer[0].path' \"$json_path\")\n",
    "fi\n",
    "\n",
    "name=$(basename -- \"$input_file\")       # ex: myfile.fastq.gz\n",
    "extension=\"${filename##*.}\"                # ex: gz\n",
    "filename=\"${filename%.*}\"                  # ex: myfile.fastq ou myfile\n",
    "\n",
    "echo \"Nom de fichier (sans chemin, sans extension) : $filename\"\n",
    "echo \"Extension détectée : $extension\"\n",
    "\n",
    "\n",
    "output_file=\"outputs/outputfile.$extension\"\n",
    "\n",
    "format=\"\"\n"
   ]
  },
  {
   "cell_type": "code",
   "execution_count": null,
   "id": "f727b2d9-bb72-4caa-bde4-ed8ea84b73ec",
   "metadata": {},
   "outputs": [],
   "source": [
    "# Variable ObiPCR Mandatory\n",
    "\n",
    "#forward PATTERN or STRING\n",
    "if [[ $multiple_primer == \"false\" ]]; then\n",
    "    forward=$(jq -r '.forward' galaxy_inputs/galaxy_inputs.json)\n",
    "    if [[ -n \"$forward\" && \"$forward\" != \"null\" ]]; then\n",
    "        forward=\"--forward $forward\"\n",
    "        echo \"variable forward présente: $forward\"\n",
    "    else\n",
    "        forward=\"\"\n",
    "        echo \"variable forward absente\"\n",
    "    fi\n",
    "fi\n",
    "\n",
    "#reverse PATTERN or STRING\n",
    "if [[ $multiple_primer == \"false\" ]]; then\n",
    "    reverse=$(jq -r '.reverse' galaxy_inputs/galaxy_inputs.json)\n",
    "    if [[ -n \"$reverse\" && \"$reverse\" != \"null\" ]]; then\n",
    "        reverse=\"--reverse $reverse\"\n",
    "        echo \"variable reverse présente: $reverse\"\n",
    "    else\n",
    "        reverse=\"\"\n",
    "        echo \"variable reverse absente\"\n",
    "    fi\n",
    "fi\n",
    "\n",
    "#Max length INTEGER\n",
    "if [[ $multiple_primer == \"false\" ]]; then\n",
    "    maxl=$(jq -r '.maxlen' galaxy_inputs/galaxy_inputs.json)\n",
    "    if [[ -n \"$maxl\" && \"$maxl\" != \"null\" ]]; then\n",
    "        maxl=\"-L $maxl\"\n",
    "        echo \"variable maxlen présente: $maxl\"\n",
    "    else\n",
    "        maxl=\"\"\n",
    "        echo \"variable maxlen absente\"\n",
    "    fi\n",
    "fi\n",
    "\n",
    "# Variable ObiPCR Optional\n",
    "\n",
    "#allowed mismatches INTEGER \n",
    "mismatches=$(jq -r '.mismatches' galaxy_inputs/galaxy_inputs.json)\n",
    "if [[ -n \"$mismatches\" && \"$mismatches\" != \"null\" ]]; then\n",
    "    mismatches=\"-e $mismatches\"\n",
    "    echo \"variable mismatches présente: $mismatches\"\n",
    "else\n",
    "    mismatches=\"\"\n",
    "    echo \"variable mismatches absente\"\n",
    "fi\n",
    "\n",
    "#min length INTEGER\n",
    "minl=$(jq -r '.minlen' galaxy_inputs/galaxy_inputs.json)\n",
    "if [[ -n \"$minl\" && \"$minl\" != \"null\" ]]; then\n",
    "    minl=\"-l $minl\"\n",
    "    echo \"variable minlen présente: $minl\"\n",
    "else\n",
    "    minl=\"\"\n",
    "    echo \"variable minlen absente\"\n",
    "fi\n",
    "\n",
    "#circular BOOLEAN\n",
    "circular=$(jq -r '.circular' galaxy_inputs/galaxy_inputs.json)\n",
    "if [ \"$circular\" = \"true\" ]; then\n",
    "    circular=\"-c\"\n",
    "    echo \"variable circular présente: $circular\"\n",
    "else\n",
    "    circular=\"\"\n",
    "    echo \"variable circular absente\"\n",
    "fi\n",
    "\n",
    "#delta INTEGER -D\n",
    "delta=$(jq -r '.delta' galaxy_inputs/galaxy_inputs.json)\n",
    "if [[ -n \"$delta\" && \"$delta\" != \"null\" ]]; then\n",
    "    delta=\"-D $delta\"\n",
    "    echo \"variable delta présente: $delta\"\n",
    "else\n",
    "    delta=\"\"\n",
    "    echo \"variable delta absente\"\n",
    "fi\n",
    "\n",
    "#only complete flanking BOOLEAN\n",
    "onlyflank=$(jq -r '.onlyflank' galaxy_inputs/galaxy_inputs.json)\n",
    "if [[ \"$onlyflank\" == \"true\" ]]; then\n",
    "    onlyflank=\"-f\"\n",
    "    echo \"variable onlyflank présente: $onlyflank\"\n",
    "else\n",
    "    onlyflank=\"\" \n",
    "    echo \"variable onlyflank absente\"\n",
    "fi"
   ]
  },
  {
   "cell_type": "code",
   "execution_count": null,
   "id": "cf721c1b",
   "metadata": {
    "vscode": {
     "languageId": "shellscript"
    }
   },
   "outputs": [],
   "source": [
    "## Test variable mode multiple primer\n",
    "\n",
    "if [[ multiple_primer == \"true\" ]]; then\n",
    "\n",
    "    column=\"marker\"  # Change to your desired column name\n",
    "\n",
    "    # Get column number\n",
    "    col_num=$(head -1 \"$primer\" | tr '\\t' '\\n' | grep -n \"^$column$\" | cut -d: -f1)\n",
    "\n",
    "    # Fill array with values from that column (excluding header)\n",
    "    readarray -t \"$column\" < <(awk -v col=\"$col_num\" 'NR>1 {print $col}' \"$primer\")\n",
    "\n",
    "    # Example: print all values\n",
    "    for val in \"${marker[@]}\"; do\n",
    "        echo \"$val\"\n",
    "    done\n",
    "\n",
    "    column=\"forward\"  # Change to your desired column name\n",
    "\n",
    "    # Get column number\n",
    "    col_num=$(head -1 \"$primer\" | tr '\\t' '\\n' | grep -n \"^$column$\" | cut -d: -f1)\n",
    "\n",
    "    # Fill array with values from that column (excluding header)\n",
    "    readarray -t \"$column\" < <(awk -v col=\"$col_num\" 'NR>1 {print $col}' \"$primer\")\n",
    "\n",
    "    # Example: print all values\n",
    "    for val in \"${forward[@]}\"; do\n",
    "        echo \"$val\"\n",
    "    done\n",
    "\n",
    "    column=\"reverse\"  # Change to your desired column name\n",
    "\n",
    "    # Get column number\n",
    "    col_num=$(head -1 \"$primer\" | tr '\\t' '\\n' | grep -n \"^$column$\" | cut -d: -f1)\n",
    "\n",
    "    # Fill array with values from that column (excluding header)\n",
    "    readarray -t \"$column\" < <(awk -v col=\"$col_num\" 'NR>1 {print $col}' \"$primer\")\n",
    "\n",
    "    # Example: print all values\n",
    "    for val in \"${reverse[@]}\"; do\n",
    "        echo \"$val\"\n",
    "    done\n",
    "\n",
    "    column=\"minl\"  # Change to your desired column name\n",
    "\n",
    "    # Get column number\n",
    "    col_num=$(head -1 \"$primer\" | tr '\\t' '\\n' | grep -n \"^$column$\" | cut -d: -f1)\n",
    "\n",
    "    # Fill array with values from that column (excluding header)\n",
    "    readarray -t \"$column\" < <(awk -v col=\"$col_num\" 'NR>1 {print $col}' \"$primer\")\n",
    "\n",
    "    # Example: print all values\n",
    "    for val in \"${minl[@]}\"; do\n",
    "        echo \"$val\"\n",
    "    done\n",
    "\n",
    "    column=\"maxl\"  # Change to your desired column name\n",
    "\n",
    "    # Get column number\n",
    "    col_num=$(head -1 \"$primer\" | tr '\\t' '\\n' | grep -n \"^$column$\" | cut -d: -f1)\n",
    "\n",
    "    # Fill array with values from that column (excluding header)\n",
    "    readarray -t \"$column\" < <(awk -v col=\"$col_num\" 'NR>1 {print $col}' \"$primer\")\n",
    "\n",
    "    # Example: print all values\n",
    "    for val in \"${maxl[@]}\"; do\n",
    "        echo \"$val\"\n",
    "    done\n",
    "fi"
   ]
  },
  {
   "cell_type": "code",
   "execution_count": null,
   "id": "a8df01f5",
   "metadata": {
    "vscode": {
     "languageId": "shellscript"
    }
   },
   "outputs": [],
   "source": [
    "# Construire les arguments formatés directement dans les tableaux\n",
    "\n",
    "for i in \"${!forward[@]}\"; do\n",
    "    if [[ -n \"${forward[$i]}\" && \"${forward[$i]}\" != \"null\" ]]; then\n",
    "        forward[$i]=\"--forward ${forward[$i]}\"\n",
    "    else\n",
    "        forward[$i]=\"\"\n",
    "    fi\n",
    "done\n",
    "\n",
    "for i in \"${!reverse[@]}\"; do\n",
    "    if [[ -n \"${reverse[$i]}\" && \"${reverse[$i]}\" != \"null\" ]]; then\n",
    "        reverse[$i]=\"--reverse ${reverse[$i]}\"\n",
    "    else\n",
    "        reverse[$i]=\"\"\n",
    "    fi\n",
    "done\n",
    "\n",
    "for i in \"${!maxl[@]}\"; do\n",
    "    if [[ -n \"${maxl[$i]}\" && \"${maxl[$i]}\" != \"null\" ]]; then\n",
    "        maxl[$i]=\"--max-length ${maxl[$i]}\"\n",
    "    else\n",
    "        maxl[$i]=\"\"\n",
    "    fi\n",
    "done\n",
    "\n",
    "for i in \"${!minl[@]}\"; do\n",
    "    if [[ -n \"${minl[$i]}\" && \"${minl[$i]}\" != \"null\" ]]; then\n",
    "        minl[$i]=\"--min-length ${minl[$i]}\"\n",
    "    else\n",
    "        minl[$i]=\"\"\n",
    "    fi\n",
    "done\n"
   ]
  },
  {
   "cell_type": "code",
   "execution_count": null,
   "id": "6d71d785",
   "metadata": {
    "vscode": {
     "languageId": "shellscript"
    }
   },
   "outputs": [],
   "source": [
    "if [[ \"$multiple_primer\" == \"true\" ]]; then\n",
    "    for i in \"${!forward[@]}\"; do\n",
    "        output_file=\"outputs/obipcr_${marker[i]}.fasta\"\n",
    "        ./obitools4/build/obipcr ${forward[$i]} ${reverse[$i]} ${maxl[$i]} ${minl[$i]} $mismatches $circular $delta $onlyflank --no-order $input_file > \"$output_file\"\n",
    "    done\n",
    "else\n",
    "    ./obitools4/build/obipcr $forward $reverse $maxl $mismatches $minl $circular $delta $onlyflank $input_file --out $output_file --no-order\n",
    "fi"
   ]
  }
 ],
 "metadata": {
  "kernelspec": {
   "display_name": "Bash",
   "language": "bash",
   "name": "bash"
  },
  "language_info": {
   "codemirror_mode": "shell",
   "file_extension": ".sh",
   "mimetype": "text/x-sh",
   "name": "bash"
  }
 },
 "nbformat": 4,
 "nbformat_minor": 5
}
