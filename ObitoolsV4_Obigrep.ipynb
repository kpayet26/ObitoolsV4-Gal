{
 "cells": [
  {
   "cell_type": "code",
   "execution_count": 12,
   "id": "0f5c2dbf-f364-46dc-8c4b-cde45a160a8f",
   "metadata": {},
   "outputs": [
    {
     "name": "stdout",
     "output_type": "stream",
     "text": [
      "Cloning into 'obitools4'...\n",
      "remote: Enumerating objects: 7574, done.\u001b[K\n",
      "remote: Counting objects: 100% (591/591), done.\u001b[K\n",
      "remote: Compressing objects: 100% (397/397), done.\u001b[K\n",
      "remote: Total 7574 (delta 287), reused 384 (delta 148), pack-reused 6983 (from 2)\u001b[K\n",
      "Receiving objects: 100% (7574/7574), 188.68 MiB | 20.47 MiB/s, done.\n",
      "Resolving deltas: 100% (4721/4721), done.\n",
      "Updating files: 100% (529/529), done.\n"
     ]
    }
   ],
   "source": [
    "rm -rf obitools4\n",
    "git clone https://github.com/metabarcoding/obitools4 "
   ]
  },
  {
   "cell_type": "code",
   "execution_count": 13,
   "id": "ed4e3803-1a6b-4a11-bc4e-a61ab4a65847",
   "metadata": {},
   "outputs": [
    {
     "name": "stdout",
     "output_type": "stream",
     "text": [
      "HEAD is now at 996ec69 update the release notes for version 4.4.0\n"
     ]
    }
   ],
   "source": [
    "### TEST FIXER LA VERSION \n",
    "cd obitools4\n",
    "git reset --hard 996ec69\n",
    "cd .."
   ]
  },
  {
   "cell_type": "code",
   "execution_count": 14,
   "id": "ec2ce414-9d61-4de4-a9f0-69f040ca9913",
   "metadata": {
    "scrolled": true
   },
   "outputs": [
    {
     "name": "stdout",
     "output_type": "stream",
     "text": [
      "Channels:\n",
      " - conda-forge\n",
      " - bioconda\n",
      "Platform: linux-64\n",
      "Collecting package metadata (repodata.json): done\n",
      "Solving environment: done\n",
      "\n",
      "\n",
      "==> WARNING: A newer version of conda exists. <==\n",
      "    current version: 25.3.1\n",
      "    latest version: 25.5.1\n",
      "\n",
      "Please update conda by running\n",
      "\n",
      "    $ conda update -n base -c conda-forge conda\n",
      "\n",
      "\n",
      "\n",
      "# All requested packages already installed.\n",
      "\n"
     ]
    }
   ],
   "source": [
    "conda install -c conda-forge compilers=1.10 make=4.4.1 go=1.24.5 zlib=1.3.1 jq=1.8.1 --yes"
   ]
  },
  {
   "cell_type": "code",
   "execution_count": 15,
   "id": "08ea8d47-3d5a-4369-845a-feb274307e79",
   "metadata": {
    "scrolled": true
   },
   "outputs": [],
   "source": [
    "# CHANGER LE LIEN DU GITLAB EN GITHUB\n",
    "find . -type f -exec sed -i \\\n",
    "  -e 's|git\\.metabarcoding\\.org/obitools/obitools4/obitools4|github.com/metabarcoding/obitools4|g' \\\n",
    "  -e 's|git\\.metabarcoding\\.org/org-asm/org-asm\\.git|github.com/metabarcoding/org-asm.git|g' \\\n",
    "  -e 's|git\\.metabarcoding\\.org/lecasofts/go/obitools|github.com/metabarcoding/obitools4|g' \\\n",
    "  -e 's|https://git\\.metabarcoding\\.org|https://github.com/metabarcoding|g' \\\n",
    "  {} +\n"
   ]
  },
  {
   "cell_type": "code",
   "execution_count": 16,
   "id": "a6e539f1-ae77-4a7d-bce6-4968b5219e01",
   "metadata": {
    "scrolled": true
   },
   "outputs": [],
   "source": [
    "export CC=$CONDA_PREFIX/bin/x86_64-conda-linux-gnu-cc\n",
    "export CGO_ENABLED=1\n",
    "export CGO_CFLAGS=\"-I$CONDA_PREFIX/include\"\n",
    "export CGO_LDFLAGS=\"-L$CONDA_PREFIX/lib\""
   ]
  },
  {
   "cell_type": "code",
   "execution_count": null,
   "id": "9aa099a4-4dfc-4ea6-8184-9da6817d6663",
   "metadata": {
    "scrolled": true
   },
   "outputs": [],
   "source": [
    "cd obitools4\n",
    "make\n",
    "cd .."
   ]
  },
  {
   "cell_type": "code",
   "execution_count": 30,
   "id": "66b68220-249e-4fd9-b26a-4efb2f380b3b",
   "metadata": {},
   "outputs": [
    {
     "name": "stdout",
     "output_type": "stream",
     "text": [
      "Input file path: galaxy_inputs/wolfdiet_obigrep.fastq\n",
      "Nom de fichier (sans chemin, sans extension) : wolfdiet_obigrep\n",
      "Extension détectée : fastq\n"
     ]
    }
   ],
   "source": [
    "json_path=\"galaxy_inputs/galaxy_inputs.json\"\n",
    "\n",
    "# input_file=\"galaxy_inputs/wolfdiet_obigrep.fastq\" test injection d'input\n",
    "input_file=$(grep -o '\"path\": *\"[^\"]*\"' \"$json_path\" | head -n 1 | sed 's/.*\"path\": *\"\\([^\"]*\\)\".*/\\1/')\n",
    "\n",
    "echo \"Input file path: $input_file\"\n",
    "\n",
    "\n",
    "filename=$(basename -- \"$input_file\")       # ex: myfile.fastq.gz\n",
    "extension=\"${filename##*.}\"                # ex: gz\n",
    "filename=\"${filename%.*}\"                  # ex: myfile.fastq ou myfile\n",
    "\n",
    "echo \"Nom de fichier (sans chemin, sans extension) : $filename\"\n",
    "echo \"Extension détectée : $extension\"\n",
    "\n",
    "\n",
    "output_file=\"outputs/outputfile.$extension\"\n",
    "format=\"\"\n"
   ]
  },
  {
   "cell_type": "code",
   "execution_count": 42,
   "id": "988ab9c8-cf2e-438e-b4e9-1a43197ebbd2",
   "metadata": {},
   "outputs": [
    {
     "name": "stdout",
     "output_type": "stream",
     "text": [
      "head: cannot open 'galaxy_inputs/seq/*.txt' for reading: No such file or directory\n",
      "head: cannot open 'galaxy_inputs/def/*.txt' for reading: No such file or directory\n",
      "head: cannot open 'galaxy_inputs/ident/*.txt' for reading: No such file or directory\n",
      "head: cannot open 'galaxy_inputs/attrib/*.txt' for reading: No such file or directory\n",
      "head: cannot open 'galaxy_inputs/hasattrib/*.txt' for reading: No such file or directory\n",
      "seq: \n",
      "def: \n",
      "ident: \n",
      "attrib: \n",
      "hasattrib: \n",
      "predicat: mode!=\"joined\"\n",
      "galaxy_inputs/wolfdiet_obigrep.fastq\n",
      "\n"
     ]
    }
   ],
   "source": [
    "#### Variables\n",
    "# à récup sur le formulaire  NORMALMENT TOUT FONCTIONNE JUSTE IDENT ET IDLIST JE PEUX PAS TESTER\n",
    "# seq=\"\"   \n",
    "# seq=$(cat \"$(jq -r '.datasetseq' galaxy_inputs)\")\n",
    "\n",
    "# def=\"\"\n",
    "# def=$(jq -r '.def' galaxy_inputs/galaxy_inputs.json)\n",
    "\n",
    "# ident=\"\"\n",
    "# ident=$(jq -r '.ident' galaxy_inputs/galaxy_inputs.json)\n",
    "\n",
    "# idlist=\"\"\n",
    "# idlist=$(jq -r '.idlist' galaxy_inputs/galaxy_inputs.json)\n",
    "\n",
    "# attrib=\"\"\n",
    "# attrib=$(jq -r '.attrib' galaxy_inputs/galaxy_inputs.json)\n",
    "\n",
    "# hassattrib=''\n",
    "# hasattrib=$(jq -r '.hasattrib' galaxy_inputs/galaxy_inputs.json)\n",
    "\n",
    "# predicat=''\n",
    "# predicat=$(jq -r '.predicat' galaxy_inputs/galaxy_inputs.json)\n",
    "\n",
    "listarg=(seq def ident attrib hasattrib predicat)\n",
    "\n",
    "for i in \"${listarg[@]}\"; do\n",
    "    value=$(head -n 1 galaxy_inputs/\"$i\"/*.txt)  # lis la première ligne du fichier dans le dossier \"$i\"\n",
    "    declare \"$i=$value\"                          # crée une variable avec le nom contenu dans $i\n",
    "done\n",
    "\n",
    "# Test d'affichage\n",
    "echo \"seq: $seq\"\n",
    "echo \"def: $def\"\n",
    "echo \"ident: $ident\"\n",
    "echo \"attrib: $attrib\"\n",
    "echo \"hasattrib: $hasattrib\"\n",
    "echo \"predicat: $predicat\"\n",
    "\n",
    "\n",
    "# lmax=\"\"\n",
    "lmax=$(jq -r '.lmax' galaxy_inputs/galaxy_inputs.json)\n",
    "\n",
    "# lmin=\"\"   \n",
    "lmin=$(jq -r '.lmin' galaxy_inputs/galaxy_inputs.json)\n",
    "####\n",
    "\n",
    "echo \"$input_file\"\n",
    "echo \"$seq\""
   ]
  },
  {
   "cell_type": "code",
   "execution_count": 43,
   "id": "f727b2d9-bb72-4caa-bde4-ed8ea84b73ec",
   "metadata": {},
   "outputs": [
    {
     "name": "stdout",
     "output_type": "stream",
     "text": [
      "variable predicat présente : -p mode!=\"joined\"\n"
     ]
    }
   ],
   "source": [
    "if [[ -n \"$seq\"  && \"$seq\" != \"null\" ]]; then\n",
    "    seq=\"-s $seq\"\n",
    "    echo \"variable seq présente: $seq\"\n",
    "else \n",
    "    seq=\"\"\n",
    "fi\n",
    "\n",
    "if [[ -n \"$def\"  && \"$def\" != \"null\"  ]]; then\n",
    "    def=\"-D $def\"\n",
    "    echo \"variable def présente : $def\"\n",
    "else \n",
    "    def=\"\"\n",
    "fi\n",
    "\n",
    "if [[ -n \"$ident\"  && \"$ident\" != \"null\" ]]; then\n",
    "    ident=\"-I $ident\"\n",
    "    echo \"variable ident présente : $ident\"\n",
    "else \n",
    "    ident=\"\"\n",
    "fi\n",
    "\n",
    "if [[ -n \"$idlist\" && \"$idlist\" != \"null\" ]]; then\n",
    "    idlist=\"--id-list $idlist\"\n",
    "    echo \"variable idlist présente : $idlist\"\n",
    "else \n",
    "    idlist=\"\"\n",
    "fi\n",
    "\n",
    "if [[ -n \"$attrib\" && \"$attrib\" != \"null\" ]]; then\n",
    "    attrib=\"-A $attrib\"\n",
    "    echo \"variable attrib présente : $attrib\"\n",
    "else \n",
    "    attrib=\"\"\n",
    "fi\n",
    "\n",
    "if [[ -n \"$hasattrib\"  && \"$hasattrib\" != \"null\" ]]; then\n",
    "    hasattrib=\"-a $hasattrib\"\n",
    "    echo \"variable hassattribute présente : $hasattrib\"\n",
    "else \n",
    "    hasattrib=\"\"\n",
    "fi\n",
    "\n",
    "if [[ -n \"$predicat\"  && \"$predicat\" != \"null\" ]]; then\n",
    "    predicat=\"-p $predicat\"\n",
    "    echo \"variable predicat présente : $predicat\"\n",
    "else \n",
    "    predicat=\"\"\n",
    "fi\n",
    "\n",
    "if [[ -n \"$lmax\"  && \"$lmax\" != \"null\" ]]; then\n",
    "    lmax=\"-L $lmax\"\n",
    "    echo \"variable lmax présente : $lmax\"\n",
    "else \n",
    "    lmax=\"\"\n",
    "fi\n",
    "\n",
    "if [[ -n \"$lmin\"  && \"$lmin\" != \"null\" ]]; then\n",
    "    lmin=\"-l $lmin\"\n",
    "    echo \"variable lmin présente : $lmin\"\n",
    "else \n",
    "    lmin=\"\"\n",
    "fi"
   ]
  },
  {
   "cell_type": "code",
   "execution_count": 44,
   "id": "e270b2a4-bfc9-436f-9267-16a480d9a101",
   "metadata": {
    "scrolled": true
   },
   "outputs": [
    {
     "name": "stdout",
     "output_type": "stream",
     "text": [
      "\u001b[36mINFO\u001b[0m[0000] Number of workers set 125                    \n",
      "\u001b[36mINFO\u001b[0m[0000] Found 1 files to process                     \n",
      "\u001b[36mINFO\u001b[0m[0000] galaxy_inputs/wolfdiet_obigrep.fastq mime type: text/fastq \n",
      "\u001b[36mINFO\u001b[0m[0000] On output use JSON headers                   \n",
      "| Reading sequences (41435/-, 9924 it/s) [4s]  \n"
     ]
    }
   ],
   "source": [
    "./obitools4/build/obigrep $seq $def $ident $idlist $attrib $hasattrib $predicat $lmax $lmin $input_file --out $output_file --no-order"
   ]
  },
  {
   "cell_type": "code",
   "execution_count": 22,
   "id": "b5a4c788-a4a2-4e0f-96f9-83b3607b805b",
   "metadata": {},
   "outputs": [
    {
     "name": "stdout",
     "output_type": "stream",
     "text": [
      "galaxy_inputs/wolfdiet_obigrep.fastq --out outputs/outputfile.fastq --no-order\n"
     ]
    }
   ],
   "source": [
    "echo $seq $def $ident $idlist $attrib $hasattrib $predicat $lmax $lmin $input_file --out $output_file --no-order"
   ]
  },
  {
   "cell_type": "code",
   "execution_count": 36,
   "id": "c839e8cc-d7e1-4ed4-a2a1-fac96abfcb86",
   "metadata": {},
   "outputs": [],
   "source": [
    "cd .."
   ]
  },
  {
   "cell_type": "code",
   "execution_count": 34,
   "id": "36eaf329-dc7e-4bbe-82fc-b023216fc8c9",
   "metadata": {
    "scrolled": true
   },
   "outputs": [
    {
     "name": "stdout",
     "output_type": "stream",
     "text": [
      "SYNOPSIS:\n",
      "    obigrep [--allows-indels] [--approx-pattern <PATTERN>]...\n",
      "            [--attribute|-a <KEY=VALUE>]... [--batch-size <int>]\n",
      "            [--compressed|-Z] [--debug] [--definition|-D <PATTERN>]... [--ecopcr]\n",
      "            [--embl] [--fail-on-taxonomy] [--fasta] [--fasta-output] [--fastq]\n",
      "            [--fastq-output] [--force-one-cpu] [--genbank]\n",
      "            [--has-attribute|-A <KEY>]... [--help|-h|-?] [--id-list <FILENAME>]\n",
      "            [--identifier|-I <PATTERN>]... [--ignore-taxon|-i <TAXID>]...\n",
      "            [--input-OBI-header] [--input-json-header] [--inverse-match|-v]\n",
      "            [--json-output] [--max-count|-C <COUNT>] [--max-cpu <int>]\n",
      "            [--max-length|-L <LENGTH>] [--min-count|-c <COUNT>]\n",
      "            [--min-length|-l <LENGTH>] [--no-order] [--no-progressbar]\n",
      "            [--only-forward] [--out|-o <FILENAME>] [--output-OBI-header|-O]\n",
      "            [--output-json-header]\n",
      "            [--paired-mode <forward|reverse|and|or|andnot|xor>]\n",
      "            [--paired-with <FILENAME>] [--pattern-error <int>] [--pprof]\n",
      "            [--pprof-goroutine <int>] [--pprof-mutex <int>]\n",
      "            [--predicate|-p <EXPRESSION>]... [--require-rank <RANK_NAME>]...\n",
      "            [--restrict-to-taxon|-r <TAXID>]... [--save-discarded <FILENAME>]\n",
      "            [--sequence|-s <PATTERN>]... [--skip-empty] [--solexa]\n",
      "            [--taxonomy|-t <string>] [--update-taxid] [--valid-taxid] [--version]\n",
      "            [<args>]\n",
      "\n",
      "OPTIONS:\n",
      "    --allows-indels                                      Allows for indel during pattern matching (default: false)\n",
      "\n",
      "    --approx-pattern <PATTERN>                           Regular expression pattern to be tested against the sequence itself. The pattern is case insensitive. (default: [])\n",
      "\n",
      "    --attribute|-a <KEY=VALUE>                           Regular expression pattern matched against the attributes of the sequence record. the value of this attribute is of the form : key:regular_pattern. The pattern is case sensitive. Several -a options can be used on the same command line and in this last case, the selected sequence records will match all constraints. (default: {})\n",
      "\n",
      "    --batch-size <int>                                   Number of sequence per batch for paralelle processing (default: 2000, env: OBIBATCHSIZE)\n",
      "\n",
      "    --compressed|-Z                                      Compress all the result using gzip (default: false)\n",
      "\n",
      "    --debug                                              Enable debug mode, by setting log level to debug. (default: false, env: OBIDEBUG)\n",
      "\n",
      "    --definition|-D <PATTERN>                            Regular expression pattern to be tested against the sequence definition. The pattern is case insensitive. (default: [])\n",
      "\n",
      "    --ecopcr                                             Read data following the ecoPCR output format. (default: false)\n",
      "\n",
      "    --embl                                               Read data following the EMBL flatfile format. (default: false)\n",
      "\n",
      "    --fail-on-taxonomy                                   Make obitools failing on error if a used taxid is not a currently valid one (default: false)\n",
      "\n",
      "    --fasta                                              Read data following the fasta format. (default: false)\n",
      "\n",
      "    --fasta-output                                       Write sequence in fasta format (default if no quality data available). (default: false)\n",
      "\n",
      "    --fastq                                              Read data following the fastq format. (default: false)\n",
      "\n",
      "    --fastq-output                                       Write sequence in fastq format (default if quality data available). (default: false)\n",
      "\n",
      "    --force-one-cpu                                      Force to use only one cpu core for parallel processing (default: false)\n",
      "\n",
      "    --genbank                                            Read data following the Genbank flatfile format. (default: false)\n",
      "\n",
      "    --has-attribute|-A <KEY>                             Selects sequence records having an attribute whose key = <KEY>. (default: [])\n",
      "\n",
      "    --help|-h|-?                                         (default: false)\n",
      "\n",
      "    --id-list <FILENAME>                                 <FILENAME> points to a text file containing the list of sequence record identifiers to be selected. The file format consists in a single identifier per line. (default: \"\")\n",
      "\n",
      "    --identifier|-I <PATTERN>                            Regular expression pattern to be tested against the sequence identifier. The pattern is case insensitive. (default: [])\n",
      "\n",
      "    --ignore-taxon|-i <TAXID>                            Require that the actual taxon of the sequence doesn't belong the provided taxid. (default: [])\n",
      "\n",
      "    --input-OBI-header                                   FASTA/FASTQ title line annotations follow OBI format. (default: false)\n",
      "\n",
      "    --input-json-header                                  FASTA/FASTQ title line annotations follow json format. (default: false)\n",
      "\n",
      "    --inverse-match|-v                                   Inverts the sequence record selection. (default: false)\n",
      "\n",
      "    --json-output                                        Write sequence in json format. (default: false)\n",
      "\n",
      "    --max-count|-C <COUNT>                               Selects sequence records occuring no more than max count time in the data set. (default: 2000000000)\n",
      "\n",
      "    --max-cpu <int>                                      Number of parallele threads computing the result (default: 125, env: OBIMAXCPU)\n",
      "\n",
      "    --max-length|-L <LENGTH>                             Selects sequence records whose sequence length is equal or shorter than lmax. (default: 2000000000)\n",
      "\n",
      "    --min-count|-c <COUNT>                               Selects sequence records occuring at least min count time in the data set. (default: 1)\n",
      "\n",
      "    --min-length|-l <LENGTH>                             Selects sequence records whose sequence length is equal or longer than lmin. (default: 1)\n",
      "\n",
      "    --no-order                                           When several input files are provided, indicates that there is no order among them. (default: false)\n",
      "\n",
      "    --no-progressbar                                     Disable the progress bar printing (default: false)\n",
      "\n",
      "    --only-forward                                       Look for pattern only on forward strand (default: false)\n",
      "\n",
      "    --out|-o <FILENAME>                                  Filename used for saving the output (default: \"-\")\n",
      "\n",
      "    --output-OBI-header|-O                               output FASTA/FASTQ title line annotations follow OBI format. (default: false)\n",
      "\n",
      "    --output-json-header                                 output FASTA/FASTQ title line annotations follow json format. (default: false)\n",
      "\n",
      "    --paired-mode <forward|reverse|and|or|andnot|xor>    If paired reads are passed to obibrep, that option determines how the conditions are applied to both reads. (default: \"forward\")\n",
      "\n",
      "    --paired-with <FILENAME>                             Filename containing the paired reads (default: \"\")\n",
      "\n",
      "    --pattern-error <int>                                Maximum number of allowed error during pattern matching (default: 0)\n",
      "\n",
      "    --pprof                                              Enable pprof server. Look at the log for details. (default: false)\n",
      "\n",
      "    --pprof-goroutine <int>                              Enable profiling of goroutine blocking profile. (default: 6060, env: OBIPPROFGOROUTINE)\n",
      "\n",
      "    --pprof-mutex <int>                                  Enable profiling of mutex lock. (default: 10, env: OBIPPROFMUTEX)\n",
      "\n",
      "    --predicate|-p <EXPRESSION>                          boolean expression to be evaluated for each sequence record. The attribute keys defined for each sequence record can be used in the expression as variable names. An extra variable named ‘sequence’ refers to the sequence record itself. Several -p options can be used on the same command line and in this last case, the selected sequence records will match all constraints. (default: [])\n",
      "\n",
      "    --require-rank <RANK_NAME>                           Select sequences belonging a taxon with a rank <RANK_NAME> (default: [])\n",
      "\n",
      "    --restrict-to-taxon|-r <TAXID>                       Require that the actual taxon of the sequence belongs the provided taxid. (default: [])\n",
      "\n",
      "    --save-discarded <FILENAME>                          Indicates in which file not selected sequences must be saved. (default: \"\")\n",
      "\n",
      "    --sequence|-s <PATTERN>                              Regular expression pattern to be tested against the sequence itself. The pattern is case insensitive. (default: [])\n",
      "\n",
      "    --skip-empty                                         Sequences of length equal to zero are suppressed from the output (default: false)\n",
      "\n",
      "    --solexa                                             Decodes quality string according to the Solexa specification. (default: false, env: OBISOLEXA)\n",
      "\n",
      "    --taxonomy|-t <string>                               Path to the taxonomy database. (default: \"\")\n",
      "\n",
      "    --update-taxid                                       Make obitools automatically updating the taxid that are declared merged to a newest one. (default: false)\n",
      "\n",
      "    --valid-taxid                                        Validate the taxonomic classification of the sequences. (default: false)\n",
      "\n",
      "    --version                                            Prints the version and exits. (default: false)\n",
      "\n"
     ]
    },
    {
     "ename": "",
     "evalue": "1",
     "output_type": "error",
     "traceback": []
    }
   ],
   "source": [
    "./obitools4/build/obigrep --help"
   ]
  }
 ],
 "metadata": {
  "kernelspec": {
   "display_name": "Bash",
   "language": "bash",
   "name": "bash"
  },
  "language_info": {
   "codemirror_mode": "shell",
   "file_extension": ".sh",
   "mimetype": "text/x-sh",
   "name": "bash"
  }
 },
 "nbformat": 4,
 "nbformat_minor": 5
}
